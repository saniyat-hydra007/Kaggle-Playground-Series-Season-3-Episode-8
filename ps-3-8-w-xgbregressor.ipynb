{
 "cells": [
  {
   "cell_type": "code",
   "execution_count": 1,
   "id": "dff101d6",
   "metadata": {
    "_cell_guid": "b1076dfc-b9ad-4769-8c92-a6c4dae69d19",
    "_uuid": "8f2839f25d086af736a60e9eeb907d3b93b6e0e5",
    "execution": {
     "iopub.execute_input": "2023-03-02T11:42:39.983304Z",
     "iopub.status.busy": "2023-03-02T11:42:39.982433Z",
     "iopub.status.idle": "2023-03-02T11:42:41.016857Z",
     "shell.execute_reply": "2023-03-02T11:42:41.015752Z"
    },
    "papermill": {
     "duration": 1.04258,
     "end_time": "2023-03-02T11:42:41.019767",
     "exception": false,
     "start_time": "2023-03-02T11:42:39.977187",
     "status": "completed"
    },
    "tags": []
   },
   "outputs": [],
   "source": [
    "import numpy as np\n",
    "import pandas as pd\n",
    "import matplotlib.pyplot as plt\n",
    "from sklearn.model_selection import train_test_split\n",
    "from sklearn.metrics import mean_squared_error\n",
    "from xgboost import XGBRegressor\n",
    "\n",
    "from sklearn.preprocessing import OrdinalEncoder"
   ]
  },
  {
   "cell_type": "code",
   "execution_count": 2,
   "id": "6285d3dc",
   "metadata": {
    "execution": {
     "iopub.execute_input": "2023-03-02T11:42:41.028105Z",
     "iopub.status.busy": "2023-03-02T11:42:41.027799Z",
     "iopub.status.idle": "2023-03-02T11:42:41.547524Z",
     "shell.execute_reply": "2023-03-02T11:42:41.546473Z"
    },
    "papermill": {
     "duration": 0.526839,
     "end_time": "2023-03-02T11:42:41.550273",
     "exception": false,
     "start_time": "2023-03-02T11:42:41.023434",
     "status": "completed"
    },
    "tags": []
   },
   "outputs": [],
   "source": [
    "df_train = pd.read_csv('/kaggle/input/playground-series-s3e8/train.csv')\n",
    "df_test = pd.read_csv('/kaggle/input/playground-series-s3e8/test.csv')\n",
    "df_sub = pd.read_csv('/kaggle/input/playground-series-s3e8/sample_submission.csv')"
   ]
  },
  {
   "cell_type": "code",
   "execution_count": 3,
   "id": "f5790695",
   "metadata": {
    "execution": {
     "iopub.execute_input": "2023-03-02T11:42:41.562587Z",
     "iopub.status.busy": "2023-03-02T11:42:41.561663Z",
     "iopub.status.idle": "2023-03-02T11:42:41.609041Z",
     "shell.execute_reply": "2023-03-02T11:42:41.607830Z"
    },
    "papermill": {
     "duration": 0.056295,
     "end_time": "2023-03-02T11:42:41.612763",
     "exception": false,
     "start_time": "2023-03-02T11:42:41.556468",
     "status": "completed"
    },
    "tags": []
   },
   "outputs": [
    {
     "data": {
      "text/html": [
       "<div>\n",
       "<style scoped>\n",
       "    .dataframe tbody tr th:only-of-type {\n",
       "        vertical-align: middle;\n",
       "    }\n",
       "\n",
       "    .dataframe tbody tr th {\n",
       "        vertical-align: top;\n",
       "    }\n",
       "\n",
       "    .dataframe thead th {\n",
       "        text-align: right;\n",
       "    }\n",
       "</style>\n",
       "<table border=\"1\" class=\"dataframe\">\n",
       "  <thead>\n",
       "    <tr style=\"text-align: right;\">\n",
       "      <th></th>\n",
       "      <th>carat</th>\n",
       "      <th>cut</th>\n",
       "      <th>color</th>\n",
       "      <th>clarity</th>\n",
       "      <th>depth</th>\n",
       "      <th>table</th>\n",
       "      <th>x</th>\n",
       "      <th>y</th>\n",
       "      <th>z</th>\n",
       "      <th>price</th>\n",
       "    </tr>\n",
       "  </thead>\n",
       "  <tbody>\n",
       "    <tr>\n",
       "      <th>0</th>\n",
       "      <td>1.52</td>\n",
       "      <td>Premium</td>\n",
       "      <td>F</td>\n",
       "      <td>VS2</td>\n",
       "      <td>62.2</td>\n",
       "      <td>58.0</td>\n",
       "      <td>7.27</td>\n",
       "      <td>7.33</td>\n",
       "      <td>4.55</td>\n",
       "      <td>13619</td>\n",
       "    </tr>\n",
       "    <tr>\n",
       "      <th>1</th>\n",
       "      <td>2.03</td>\n",
       "      <td>Very Good</td>\n",
       "      <td>J</td>\n",
       "      <td>SI2</td>\n",
       "      <td>62.0</td>\n",
       "      <td>58.0</td>\n",
       "      <td>8.06</td>\n",
       "      <td>8.12</td>\n",
       "      <td>5.05</td>\n",
       "      <td>13387</td>\n",
       "    </tr>\n",
       "    <tr>\n",
       "      <th>2</th>\n",
       "      <td>0.70</td>\n",
       "      <td>Ideal</td>\n",
       "      <td>G</td>\n",
       "      <td>VS1</td>\n",
       "      <td>61.2</td>\n",
       "      <td>57.0</td>\n",
       "      <td>5.69</td>\n",
       "      <td>5.73</td>\n",
       "      <td>3.50</td>\n",
       "      <td>2772</td>\n",
       "    </tr>\n",
       "    <tr>\n",
       "      <th>3</th>\n",
       "      <td>0.32</td>\n",
       "      <td>Ideal</td>\n",
       "      <td>G</td>\n",
       "      <td>VS1</td>\n",
       "      <td>61.6</td>\n",
       "      <td>56.0</td>\n",
       "      <td>4.38</td>\n",
       "      <td>4.41</td>\n",
       "      <td>2.71</td>\n",
       "      <td>666</td>\n",
       "    </tr>\n",
       "    <tr>\n",
       "      <th>4</th>\n",
       "      <td>1.70</td>\n",
       "      <td>Premium</td>\n",
       "      <td>G</td>\n",
       "      <td>VS2</td>\n",
       "      <td>62.6</td>\n",
       "      <td>59.0</td>\n",
       "      <td>7.65</td>\n",
       "      <td>7.61</td>\n",
       "      <td>4.77</td>\n",
       "      <td>14453</td>\n",
       "    </tr>\n",
       "  </tbody>\n",
       "</table>\n",
       "</div>"
      ],
      "text/plain": [
       "   carat        cut color clarity  depth  table     x     y     z  price\n",
       "0   1.52    Premium     F     VS2   62.2   58.0  7.27  7.33  4.55  13619\n",
       "1   2.03  Very Good     J     SI2   62.0   58.0  8.06  8.12  5.05  13387\n",
       "2   0.70      Ideal     G     VS1   61.2   57.0  5.69  5.73  3.50   2772\n",
       "3   0.32      Ideal     G     VS1   61.6   56.0  4.38  4.41  2.71    666\n",
       "4   1.70    Premium     G     VS2   62.6   59.0  7.65  7.61  4.77  14453"
      ]
     },
     "execution_count": 3,
     "metadata": {},
     "output_type": "execute_result"
    }
   ],
   "source": [
    "df_train = df_train.drop('id', axis=1)\n",
    "df_test = df_test.drop('id', axis=1)\n",
    "df_train.head()"
   ]
  },
  {
   "cell_type": "code",
   "execution_count": 4,
   "id": "b634b3a7",
   "metadata": {
    "execution": {
     "iopub.execute_input": "2023-03-02T11:42:41.621432Z",
     "iopub.status.busy": "2023-03-02T11:42:41.621115Z",
     "iopub.status.idle": "2023-03-02T11:42:41.718606Z",
     "shell.execute_reply": "2023-03-02T11:42:41.717663Z"
    },
    "papermill": {
     "duration": 0.104693,
     "end_time": "2023-03-02T11:42:41.721039",
     "exception": false,
     "start_time": "2023-03-02T11:42:41.616346",
     "status": "completed"
    },
    "tags": []
   },
   "outputs": [],
   "source": [
    "cut_values = [['Fair', 'Good', 'Very Good', 'Premium', 'Ideal']]\n",
    "cut_encoder = OrdinalEncoder(categories=cut_values)\n",
    "df_train['cut'] = cut_encoder.fit_transform(df_train[['cut']])\n",
    "df_test['cut'] = cut_encoder.fit_transform(df_test[['cut']])"
   ]
  },
  {
   "cell_type": "code",
   "execution_count": 5,
   "id": "dd30b578",
   "metadata": {
    "execution": {
     "iopub.execute_input": "2023-03-02T11:42:41.729258Z",
     "iopub.status.busy": "2023-03-02T11:42:41.728943Z",
     "iopub.status.idle": "2023-03-02T11:42:41.827464Z",
     "shell.execute_reply": "2023-03-02T11:42:41.826440Z"
    },
    "papermill": {
     "duration": 0.105345,
     "end_time": "2023-03-02T11:42:41.829905",
     "exception": false,
     "start_time": "2023-03-02T11:42:41.724560",
     "status": "completed"
    },
    "tags": []
   },
   "outputs": [],
   "source": [
    "color_values = [['D', 'E', 'F', 'G', 'H', 'I', 'J']]\n",
    "color_encoder = OrdinalEncoder(categories=color_values)\n",
    "df_train['color'] = color_encoder.fit_transform(df_train[['color']])\n",
    "df_test['color'] = color_encoder.fit_transform(df_test[['color']])"
   ]
  },
  {
   "cell_type": "code",
   "execution_count": 6,
   "id": "de71bdc6",
   "metadata": {
    "execution": {
     "iopub.execute_input": "2023-03-02T11:42:41.838241Z",
     "iopub.status.busy": "2023-03-02T11:42:41.837941Z",
     "iopub.status.idle": "2023-03-02T11:42:41.937009Z",
     "shell.execute_reply": "2023-03-02T11:42:41.936014Z"
    },
    "papermill": {
     "duration": 0.106055,
     "end_time": "2023-03-02T11:42:41.939510",
     "exception": false,
     "start_time": "2023-03-02T11:42:41.833455",
     "status": "completed"
    },
    "tags": []
   },
   "outputs": [],
   "source": [
    "clarity_values = [['I1', 'SI2', 'SI1', 'VS2', 'VS1', 'VVS2', 'VVS1', 'IF']]\n",
    "clarity_encoder = OrdinalEncoder(categories=clarity_values)\n",
    "df_train['clarity'] = clarity_encoder.fit_transform(df_train[['clarity']])\n",
    "df_test['clarity'] = clarity_encoder.fit_transform(df_test[['clarity']])"
   ]
  },
  {
   "cell_type": "code",
   "execution_count": 7,
   "id": "23cb0fd9",
   "metadata": {
    "execution": {
     "iopub.execute_input": "2023-03-02T11:42:41.947627Z",
     "iopub.status.busy": "2023-03-02T11:42:41.947319Z",
     "iopub.status.idle": "2023-03-02T11:42:41.958691Z",
     "shell.execute_reply": "2023-03-02T11:42:41.957726Z"
    },
    "papermill": {
     "duration": 0.017908,
     "end_time": "2023-03-02T11:42:41.960965",
     "exception": false,
     "start_time": "2023-03-02T11:42:41.943057",
     "status": "completed"
    },
    "tags": []
   },
   "outputs": [],
   "source": [
    "for column in ['x', 'y', 'z']:\n",
    "    df_train[column] = df_train[column].replace(0, 1)\n",
    "    df_test[column] = df_test[column].replace(0, 1)"
   ]
  },
  {
   "cell_type": "code",
   "execution_count": 8,
   "id": "a8b44c08",
   "metadata": {
    "execution": {
     "iopub.execute_input": "2023-03-02T11:42:41.969270Z",
     "iopub.status.busy": "2023-03-02T11:42:41.968987Z",
     "iopub.status.idle": "2023-03-02T11:42:41.985795Z",
     "shell.execute_reply": "2023-03-02T11:42:41.984681Z"
    },
    "papermill": {
     "duration": 0.023758,
     "end_time": "2023-03-02T11:42:41.988219",
     "exception": false,
     "start_time": "2023-03-02T11:42:41.964461",
     "status": "completed"
    },
    "tags": []
   },
   "outputs": [
    {
     "data": {
      "text/html": [
       "<div>\n",
       "<style scoped>\n",
       "    .dataframe tbody tr th:only-of-type {\n",
       "        vertical-align: middle;\n",
       "    }\n",
       "\n",
       "    .dataframe tbody tr th {\n",
       "        vertical-align: top;\n",
       "    }\n",
       "\n",
       "    .dataframe thead th {\n",
       "        text-align: right;\n",
       "    }\n",
       "</style>\n",
       "<table border=\"1\" class=\"dataframe\">\n",
       "  <thead>\n",
       "    <tr style=\"text-align: right;\">\n",
       "      <th></th>\n",
       "      <th>carat</th>\n",
       "      <th>cut</th>\n",
       "      <th>color</th>\n",
       "      <th>clarity</th>\n",
       "      <th>depth</th>\n",
       "      <th>table</th>\n",
       "      <th>x</th>\n",
       "      <th>y</th>\n",
       "      <th>z</th>\n",
       "      <th>price</th>\n",
       "    </tr>\n",
       "  </thead>\n",
       "  <tbody>\n",
       "    <tr>\n",
       "      <th>0</th>\n",
       "      <td>1.52</td>\n",
       "      <td>3.0</td>\n",
       "      <td>2.0</td>\n",
       "      <td>3.0</td>\n",
       "      <td>62.2</td>\n",
       "      <td>58.0</td>\n",
       "      <td>7.27</td>\n",
       "      <td>7.33</td>\n",
       "      <td>4.55</td>\n",
       "      <td>13619</td>\n",
       "    </tr>\n",
       "    <tr>\n",
       "      <th>1</th>\n",
       "      <td>2.03</td>\n",
       "      <td>2.0</td>\n",
       "      <td>6.0</td>\n",
       "      <td>1.0</td>\n",
       "      <td>62.0</td>\n",
       "      <td>58.0</td>\n",
       "      <td>8.06</td>\n",
       "      <td>8.12</td>\n",
       "      <td>5.05</td>\n",
       "      <td>13387</td>\n",
       "    </tr>\n",
       "    <tr>\n",
       "      <th>2</th>\n",
       "      <td>0.70</td>\n",
       "      <td>4.0</td>\n",
       "      <td>3.0</td>\n",
       "      <td>4.0</td>\n",
       "      <td>61.2</td>\n",
       "      <td>57.0</td>\n",
       "      <td>5.69</td>\n",
       "      <td>5.73</td>\n",
       "      <td>3.50</td>\n",
       "      <td>2772</td>\n",
       "    </tr>\n",
       "    <tr>\n",
       "      <th>3</th>\n",
       "      <td>0.32</td>\n",
       "      <td>4.0</td>\n",
       "      <td>3.0</td>\n",
       "      <td>4.0</td>\n",
       "      <td>61.6</td>\n",
       "      <td>56.0</td>\n",
       "      <td>4.38</td>\n",
       "      <td>4.41</td>\n",
       "      <td>2.71</td>\n",
       "      <td>666</td>\n",
       "    </tr>\n",
       "    <tr>\n",
       "      <th>4</th>\n",
       "      <td>1.70</td>\n",
       "      <td>3.0</td>\n",
       "      <td>3.0</td>\n",
       "      <td>3.0</td>\n",
       "      <td>62.6</td>\n",
       "      <td>59.0</td>\n",
       "      <td>7.65</td>\n",
       "      <td>7.61</td>\n",
       "      <td>4.77</td>\n",
       "      <td>14453</td>\n",
       "    </tr>\n",
       "  </tbody>\n",
       "</table>\n",
       "</div>"
      ],
      "text/plain": [
       "   carat  cut  color  clarity  depth  table     x     y     z  price\n",
       "0   1.52  3.0    2.0      3.0   62.2   58.0  7.27  7.33  4.55  13619\n",
       "1   2.03  2.0    6.0      1.0   62.0   58.0  8.06  8.12  5.05  13387\n",
       "2   0.70  4.0    3.0      4.0   61.2   57.0  5.69  5.73  3.50   2772\n",
       "3   0.32  4.0    3.0      4.0   61.6   56.0  4.38  4.41  2.71    666\n",
       "4   1.70  3.0    3.0      3.0   62.6   59.0  7.65  7.61  4.77  14453"
      ]
     },
     "execution_count": 8,
     "metadata": {},
     "output_type": "execute_result"
    }
   ],
   "source": [
    "df_train.head()"
   ]
  },
  {
   "cell_type": "code",
   "execution_count": 9,
   "id": "1c4ea933",
   "metadata": {
    "execution": {
     "iopub.execute_input": "2023-03-02T11:42:41.997050Z",
     "iopub.status.busy": "2023-03-02T11:42:41.996764Z",
     "iopub.status.idle": "2023-03-02T11:42:42.011138Z",
     "shell.execute_reply": "2023-03-02T11:42:42.010261Z"
    },
    "papermill": {
     "duration": 0.021668,
     "end_time": "2023-03-02T11:42:42.013511",
     "exception": false,
     "start_time": "2023-03-02T11:42:41.991843",
     "status": "completed"
    },
    "tags": []
   },
   "outputs": [],
   "source": [
    "Y = df_train['price']\n",
    "df_train=df_train.drop(['price'],axis=1)"
   ]
  },
  {
   "cell_type": "code",
   "execution_count": 10,
   "id": "73e6b891",
   "metadata": {
    "execution": {
     "iopub.execute_input": "2023-03-02T11:42:42.021602Z",
     "iopub.status.busy": "2023-03-02T11:42:42.021314Z",
     "iopub.status.idle": "2023-03-02T11:42:42.047093Z",
     "shell.execute_reply": "2023-03-02T11:42:42.046143Z"
    },
    "papermill": {
     "duration": 0.032246,
     "end_time": "2023-03-02T11:42:42.049260",
     "exception": false,
     "start_time": "2023-03-02T11:42:42.017014",
     "status": "completed"
    },
    "tags": []
   },
   "outputs": [],
   "source": [
    "train_X, test_X, train_y, test_y = train_test_split(df_train, Y,test_size = 0.3, random_state =1234)"
   ]
  },
  {
   "cell_type": "code",
   "execution_count": 11,
   "id": "ec27dd21",
   "metadata": {
    "execution": {
     "iopub.execute_input": "2023-03-02T11:42:42.057548Z",
     "iopub.status.busy": "2023-03-02T11:42:42.057262Z",
     "iopub.status.idle": "2023-03-02T11:42:54.826224Z",
     "shell.execute_reply": "2023-03-02T11:42:54.825191Z"
    },
    "papermill": {
     "duration": 12.776098,
     "end_time": "2023-03-02T11:42:54.828978",
     "exception": false,
     "start_time": "2023-03-02T11:42:42.052880",
     "status": "completed"
    },
    "tags": []
   },
   "outputs": [
    {
     "name": "stdout",
     "output_type": "stream",
     "text": [
      "[11:42:46] WARNING: ../src/objective/regression_obj.cu:203: reg:linear is now deprecated in favor of reg:squarederror.\n"
     ]
    }
   ],
   "source": [
    "model=XGBRegressor(max_depth=10, learning_rate=0.24 , n_estimators=50, objective='reg:linear', booster='gbtree')\n",
    "XGB=model.fit(train_X,train_y)\n",
    "prediction=XGB.predict(test_X)"
   ]
  },
  {
   "cell_type": "code",
   "execution_count": 12,
   "id": "834f0974",
   "metadata": {
    "execution": {
     "iopub.execute_input": "2023-03-02T11:42:54.840068Z",
     "iopub.status.busy": "2023-03-02T11:42:54.839133Z",
     "iopub.status.idle": "2023-03-02T11:42:55.061999Z",
     "shell.execute_reply": "2023-03-02T11:42:55.061154Z"
    },
    "papermill": {
     "duration": 0.230897,
     "end_time": "2023-03-02T11:42:55.064705",
     "exception": false,
     "start_time": "2023-03-02T11:42:54.833808",
     "status": "completed"
    },
    "tags": []
   },
   "outputs": [],
   "source": [
    "test_pred = XGB.predict(df_test)\n",
    "test_pred\n",
    "df_sub.price= test_pred"
   ]
  },
  {
   "cell_type": "code",
   "execution_count": 13,
   "id": "9b34e040",
   "metadata": {
    "execution": {
     "iopub.execute_input": "2023-03-02T11:42:55.075131Z",
     "iopub.status.busy": "2023-03-02T11:42:55.074830Z",
     "iopub.status.idle": "2023-03-02T11:42:55.316556Z",
     "shell.execute_reply": "2023-03-02T11:42:55.315228Z"
    },
    "papermill": {
     "duration": 0.250511,
     "end_time": "2023-03-02T11:42:55.319919",
     "exception": false,
     "start_time": "2023-03-02T11:42:55.069408",
     "status": "completed"
    },
    "tags": []
   },
   "outputs": [
    {
     "data": {
      "text/html": [
       "<div>\n",
       "<style scoped>\n",
       "    .dataframe tbody tr th:only-of-type {\n",
       "        vertical-align: middle;\n",
       "    }\n",
       "\n",
       "    .dataframe tbody tr th {\n",
       "        vertical-align: top;\n",
       "    }\n",
       "\n",
       "    .dataframe thead th {\n",
       "        text-align: right;\n",
       "    }\n",
       "</style>\n",
       "<table border=\"1\" class=\"dataframe\">\n",
       "  <thead>\n",
       "    <tr style=\"text-align: right;\">\n",
       "      <th></th>\n",
       "      <th>id</th>\n",
       "      <th>price</th>\n",
       "    </tr>\n",
       "  </thead>\n",
       "  <tbody>\n",
       "    <tr>\n",
       "      <th>0</th>\n",
       "      <td>193573</td>\n",
       "      <td>867.89090</td>\n",
       "    </tr>\n",
       "    <tr>\n",
       "      <th>1</th>\n",
       "      <td>193574</td>\n",
       "      <td>2453.96400</td>\n",
       "    </tr>\n",
       "    <tr>\n",
       "      <th>2</th>\n",
       "      <td>193575</td>\n",
       "      <td>2327.60160</td>\n",
       "    </tr>\n",
       "    <tr>\n",
       "      <th>3</th>\n",
       "      <td>193576</td>\n",
       "      <td>888.04987</td>\n",
       "    </tr>\n",
       "    <tr>\n",
       "      <th>4</th>\n",
       "      <td>193577</td>\n",
       "      <td>5785.88960</td>\n",
       "    </tr>\n",
       "    <tr>\n",
       "      <th>...</th>\n",
       "      <td>...</td>\n",
       "      <td>...</td>\n",
       "    </tr>\n",
       "    <tr>\n",
       "      <th>129045</th>\n",
       "      <td>322618</td>\n",
       "      <td>3807.95700</td>\n",
       "    </tr>\n",
       "    <tr>\n",
       "      <th>129046</th>\n",
       "      <td>322619</td>\n",
       "      <td>2586.22600</td>\n",
       "    </tr>\n",
       "    <tr>\n",
       "      <th>129047</th>\n",
       "      <td>322620</td>\n",
       "      <td>7562.15700</td>\n",
       "    </tr>\n",
       "    <tr>\n",
       "      <th>129048</th>\n",
       "      <td>322621</td>\n",
       "      <td>5245.18950</td>\n",
       "    </tr>\n",
       "    <tr>\n",
       "      <th>129049</th>\n",
       "      <td>322622</td>\n",
       "      <td>4246.88100</td>\n",
       "    </tr>\n",
       "  </tbody>\n",
       "</table>\n",
       "<p>129050 rows × 2 columns</p>\n",
       "</div>"
      ],
      "text/plain": [
       "            id       price\n",
       "0       193573   867.89090\n",
       "1       193574  2453.96400\n",
       "2       193575  2327.60160\n",
       "3       193576   888.04987\n",
       "4       193577  5785.88960\n",
       "...        ...         ...\n",
       "129045  322618  3807.95700\n",
       "129046  322619  2586.22600\n",
       "129047  322620  7562.15700\n",
       "129048  322621  5245.18950\n",
       "129049  322622  4246.88100\n",
       "\n",
       "[129050 rows x 2 columns]"
      ]
     },
     "execution_count": 13,
     "metadata": {},
     "output_type": "execute_result"
    }
   ],
   "source": [
    "df_sub.to_csv('submission.csv', index = False)\n",
    "pd.read_csv('submission.csv')"
   ]
  }
 ],
 "metadata": {
  "kernelspec": {
   "display_name": "Python 3",
   "language": "python",
   "name": "python3"
  },
  "language_info": {
   "codemirror_mode": {
    "name": "ipython",
    "version": 3
   },
   "file_extension": ".py",
   "mimetype": "text/x-python",
   "name": "python",
   "nbconvert_exporter": "python",
   "pygments_lexer": "ipython3",
   "version": "3.7.12"
  },
  "papermill": {
   "default_parameters": {},
   "duration": 26.412627,
   "end_time": "2023-03-02T11:42:56.649770",
   "environment_variables": {},
   "exception": null,
   "input_path": "__notebook__.ipynb",
   "output_path": "__notebook__.ipynb",
   "parameters": {},
   "start_time": "2023-03-02T11:42:30.237143",
   "version": "2.4.0"
  }
 },
 "nbformat": 4,
 "nbformat_minor": 5
}
